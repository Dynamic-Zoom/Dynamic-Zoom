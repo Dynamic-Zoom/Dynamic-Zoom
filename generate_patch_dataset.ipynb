{
 "cells": [
  {
   "cell_type": "code",
   "execution_count": 2,
   "metadata": {},
   "outputs": [],
   "source": [
    "import os\n",
    "from PIL import Image\n",
    "import numpy as np\n",
    "import random\n",
    "import scipy.io as sio\n",
    "from torchvision.transforms.functional import to_tensor\n",
    "import torch\n",
    "from tqdm import tqdm\n"
   ]
  },
  {
   "cell_type": "code",
   "execution_count": 3,
   "metadata": {},
   "outputs": [],
   "source": [
    "def extract_and_save_patches(lr_dir_x2, lr_dir_x4, hr_dir, save_dir, lr_patch_size=32, num_patches=10):\n",
    "    lr_filenamesx2 = sorted(os.listdir(lr_dir_x2))\n",
    "    lr_filenamesx4 = sorted(os.listdir(lr_dir_x4))\n",
    "    hr_filenames = sorted([f.replace('x2', '') for f in lr_filenamesx2])  # Adjust based on naming convention if needed\n",
    "    \n",
    "    patch_id = 1\n",
    "    \n",
    "    for lr_filenamex2, lr_filenamex4,hr_filename in tqdm(zip(lr_filenamesx2, lr_filenamesx4, hr_filenames)):\n",
    "        lr_image_pathx2 = os.path.join(lr_dir_x2, lr_filenamex2)\n",
    "        lr_image_pathx4 = os.path.join(lr_dir_x4, lr_filenamex4)\n",
    "        hr_image_path = os.path.join(hr_dir, hr_filename)\n",
    "        \n",
    "        lr_imagex2 = Image.open(lr_image_pathx2).convert('RGB')\n",
    "        lr_imagex4 = Image.open(lr_image_pathx4).convert('RGB')\n",
    "        hr_image = Image.open(hr_image_path).convert('RGB')\n",
    "        \n",
    "        lr_imagex2 = to_tensor(lr_imagex2)  # Converts to [0, 1] range\n",
    "        lr_imagex4 = to_tensor(lr_imagex4)  # Converts to [0, 1] range\n",
    "        hr_image = to_tensor(hr_image)  # Converts to [0, 1] range\n",
    "\n",
    "        # print(torch.min(lr_image), torch.max(lr_image), torch.min(hr_image), torch.max(hr_image))\n",
    "        \n",
    "        for _ in range(num_patches):\n",
    "            # Randomly select the top-left pixel of the LR patch\n",
    "            x_lrx4 = random.randint(0, lr_imagex4.shape[2] - lr_patch_size)\n",
    "            y_lrx4 = random.randint(0, lr_imagex4.shape[1] - lr_patch_size)\n",
    "            \n",
    "            x_lrx2 = x_lrx4 * 2\n",
    "            y_lrx2 = y_lrx4 * 2\n",
    "\n",
    "            # Calculate the corresponding top-left pixel of the HR patch\n",
    "            x_hr = x_lrx4 * 4\n",
    "            y_hr = y_lrx4 * 4\n",
    "            \n",
    "            # Extract the patches\n",
    "            lr_patchx4 = lr_imagex4[:, y_lrx4:y_lrx4+lr_patch_size, x_lrx4:x_lrx4+lr_patch_size]\n",
    "            lr_patchx2 = lr_imagex2[:, y_lrx2:y_lrx2+(lr_patch_size*2), x_lrx2:x_lrx2+(lr_patch_size*2)]\n",
    "            hr_patch = hr_image[:, y_hr:y_hr+(lr_patch_size*4), x_hr:x_hr+(lr_patch_size*4)]\n",
    "\n",
    "            if (torch.max(lr_patchx4) == torch.min(lr_patchx4)) or (torch.max(lr_patchx2) == torch.min(lr_patchx2)) or (torch.max(hr_patch) == torch.min(hr_patch)):\n",
    "                print(\"Skip due to divide by 0 error\")\n",
    "                continue\n",
    "            \n",
    "            # Save the patches as .mat files\n",
    "            patch_filename = os.path.join(save_dir, f'{patch_id}.mat')\n",
    "            sio.savemat(patch_filename, {'lr_patchx2': lr_patchx2.numpy(), 'lr_patchx4': lr_patchx4.numpy(), 'hr_patch': hr_patch.numpy()})\n",
    "            \n",
    "            patch_id += 1"
   ]
  },
  {
   "cell_type": "code",
   "execution_count": 4,
   "metadata": {},
   "outputs": [
    {
     "name": "stderr",
     "output_type": "stream",
     "text": [
      "13it [00:06,  2.14it/s]"
     ]
    },
    {
     "name": "stdout",
     "output_type": "stream",
     "text": [
      "Skip due to divide by 0 error\n",
      "Skip due to divide by 0 error\n"
     ]
    },
    {
     "name": "stderr",
     "output_type": "stream",
     "text": [
      "40it [00:19,  2.02it/s]"
     ]
    }
   ],
   "source": [
    "# Example usage\n",
    "lr_dir_x2 = './DIV2K_train_LR_bicubic/X2/'\n",
    "lr_dir_x4 = './DIV2K_train_LR_bicubic/X4/'\n",
    "hr_dir = './DIV2K_train_HR/'\n",
    "save_dir = './Train_Patches'\n",
    "extract_and_save_patches(lr_dir_x2, lr_dir_x4, hr_dir, save_dir, lr_patch_size=64, num_patches=20)"
   ]
  },
  {
   "cell_type": "code",
   "execution_count": null,
   "metadata": {},
   "outputs": [
    {
     "ename": "NameError",
     "evalue": "name 'sio' is not defined",
     "output_type": "error",
     "traceback": [
      "\u001b[1;31m---------------------------------------------------------------------------\u001b[0m",
      "\u001b[1;31mNameError\u001b[0m                                 Traceback (most recent call last)",
      "Cell \u001b[1;32mIn[1], line 3\u001b[0m\n\u001b[0;32m      1\u001b[0m \u001b[38;5;28;01mimport\u001b[39;00m \u001b[38;5;21;01mmatplotlib\u001b[39;00m\u001b[38;5;21;01m.\u001b[39;00m\u001b[38;5;21;01mpyplot\u001b[39;00m \u001b[38;5;28;01mas\u001b[39;00m \u001b[38;5;21;01mplt\u001b[39;00m\n\u001b[1;32m----> 3\u001b[0m patch \u001b[38;5;241m=\u001b[39m \u001b[43msio\u001b[49m\u001b[38;5;241m.\u001b[39mloadmat(\u001b[38;5;124m'\u001b[39m\u001b[38;5;124m./Train_Patches/11.mat\u001b[39m\u001b[38;5;124m'\u001b[39m )[\u001b[38;5;124m'\u001b[39m\u001b[38;5;124mhr_patch\u001b[39m\u001b[38;5;124m'\u001b[39m]\n\u001b[0;32m      4\u001b[0m patch \u001b[38;5;241m=\u001b[39m np\u001b[38;5;241m.\u001b[39mtranspose(patch, (\u001b[38;5;241m1\u001b[39m, \u001b[38;5;241m2\u001b[39m, \u001b[38;5;241m0\u001b[39m))\n\u001b[0;32m      5\u001b[0m plt\u001b[38;5;241m.\u001b[39mimshow(patch)\n",
      "\u001b[1;31mNameError\u001b[0m: name 'sio' is not defined"
     ]
    }
   ],
   "source": [
    "import matplotlib.pyplot as plt\n",
    "\n",
    "patch = sio.loadmat('./Train_Patches/11.mat' )['hr_patch']\n",
    "patch = np.transpose(patch, (1, 2, 0))\n",
    "plt.imshow(patch)"
   ]
  },
  {
   "cell_type": "code",
   "execution_count": null,
   "metadata": {},
   "outputs": [],
   "source": []
  }
 ],
 "metadata": {
  "kernelspec": {
   "display_name": "766-torch",
   "language": "python",
   "name": "python3"
  },
  "language_info": {
   "codemirror_mode": {
    "name": "ipython",
    "version": 3
   },
   "file_extension": ".py",
   "mimetype": "text/x-python",
   "name": "python",
   "nbconvert_exporter": "python",
   "pygments_lexer": "ipython3",
   "version": "3.10.13"
  }
 },
 "nbformat": 4,
 "nbformat_minor": 2
}
